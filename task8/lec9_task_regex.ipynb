{
 "cells": [
  {
   "cell_type": "markdown",
   "id": "2df7d74f",
   "metadata": {},
   "source": [
    "<h3 style='color:#8474A1;'>Q: extraction of names, phone numbers, and mails from a text:</h3>"
   ]
  },
  {
   "cell_type": "code",
   "execution_count": 15,
   "id": "f75f3194",
   "metadata": {},
   "outputs": [
    {
     "name": "stdout",
     "output_type": "stream",
     "text": [
      "['ahmed mohammed samy', 'salah amr sameer', 'shereef mohammed ameer']\n",
      "['01036744329', '01256453457', '01587865463']\n",
      "['ahmed_mohammed@gmail.com', 'salah+amr@outlook.com', 'shereef@star-net.ro']\n"
     ]
    }
   ],
   "source": [
    "import re\n",
    "import itertools\n",
    "txt=('''ahmed mohammed samy 01036744329 ahmed_mohammed@gmail.com\n",
    "    salah amr sameer 01256453457 salah+amr@outlook.com\n",
    "    shereef mohammed ameer 01587865463 shereef@star-net.ro''')\n",
    "\n",
    "names=re.compile(r'[a-zA-Z]+\\s[a-zA-Z]+\\s[a-zA-Z]+')                        # matching names\n",
    "matchNames=names.finditer(txt)\n",
    "\n",
    "numbers=re.compile(r'01[0125][0-9]{8}')                                     # matching numbers\n",
    "matchNumbers=numbers.finditer(txt)\n",
    "\n",
    "emails=re.compile(r'[a-zA-Z0-9._+-]+@[a-zA-Z0-9-]+\\.[a-zA-Z0-9-.]{2,}')     # matching mails\n",
    "matchEmails=emails.finditer(txt)\n",
    "\n",
    "namelist=[]\n",
    "numberslist=[]\n",
    "mailslist=[]\n",
    "\n",
    "for( name, number, mail) in zip(matchNames , matchNumbers , matchEmails):   # parallel iterating on multiple lists using zip funtion\n",
    "    \n",
    "    namelist.append(txt[name.span()[0]:name.span()[1]])\n",
    "    numberslist.append(txt[number.span()[0]:number.span()[1]])\n",
    "    mailslist.append(txt[mail.span()[0]:mail.span()[1]])\n",
    "    \n",
    "print(namelist)\n",
    "print(numberslist)\n",
    "print(mailslist)\n",
    "\n"
   ]
  },
  {
   "cell_type": "code",
   "execution_count": null,
   "id": "c285f57f",
   "metadata": {},
   "outputs": [],
   "source": []
  }
 ],
 "metadata": {
  "kernelspec": {
   "display_name": "Python 3",
   "language": "python",
   "name": "python3"
  },
  "language_info": {
   "codemirror_mode": {
    "name": "ipython",
    "version": 3
   },
   "file_extension": ".py",
   "mimetype": "text/x-python",
   "name": "python",
   "nbconvert_exporter": "python",
   "pygments_lexer": "ipython3",
   "version": "3.8.8"
  }
 },
 "nbformat": 4,
 "nbformat_minor": 5
}
