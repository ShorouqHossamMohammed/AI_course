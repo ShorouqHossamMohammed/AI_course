{
 "cells": [
  {
   "cell_type": "code",
   "execution_count": 7,
   "id": "9f97ff43",
   "metadata": {},
   "outputs": [
    {
     "data": {
      "text/plain": [
       "OrderedDict([('age', 24), ('hoppy', 'origamy'), ('name', 'ahmed')])"
      ]
     },
     "execution_count": 7,
     "metadata": {},
     "output_type": "execute_result"
    }
   ],
   "source": [
    "#sorting a dict by keys\n",
    "from collections import OrderedDict\n",
    "dict1= {}\n",
    "dict1['name']='ahmed'\n",
    "dict1['age']=24\n",
    "dict1['hoppy']='origamy'\n",
    "dict2=OrderedDict(sorted(dict1.items()) )\n",
    "dict2"
   ]
  },
  {
   "cell_type": "code",
   "execution_count": 5,
   "id": "997c39d1",
   "metadata": {},
   "outputs": [
    {
     "name": "stdout",
     "output_type": "stream",
     "text": [
      "7\n",
      "-1\n",
      "12\n",
      "0.75\n"
     ]
    }
   ],
   "source": [
    "#using self made lib\n",
    "import mylibshorouq\n",
    "mylibshorouq.addxy(3,4)\n",
    "mylibshorouq.subxy(3,4)\n",
    "mylibshorouq.multxy(3,4)\n",
    "mylibshorouq.divxy(3,4)"
   ]
  },
  {
   "cell_type": "code",
   "execution_count": null,
   "id": "b3fcdc91",
   "metadata": {},
   "outputs": [],
   "source": [
    "#Q5\n",
    "from queue import LifoQueue as stack\n",
    "st= stack()\n",
    "x=input('enter num')\n",
    "def putintostack(x):\n",
    "    while True:\n",
    "        if x ==0:\n",
    "            break\n",
    "        else:\n",
    "            st.put(x)\n",
    "            \n",
    "putintostack(x)  \n",
    "print(st)"
   ]
  },
  {
   "cell_type": "code",
   "execution_count": null,
   "id": "374b8539",
   "metadata": {},
   "outputs": [],
   "source": [
    "\n"
   ]
  },
  {
   "cell_type": "code",
   "execution_count": null,
   "id": "ec26ecff",
   "metadata": {},
   "outputs": [],
   "source": []
  },
  {
   "cell_type": "code",
   "execution_count": null,
   "id": "bb08ce5a",
   "metadata": {},
   "outputs": [],
   "source": []
  },
  {
   "cell_type": "code",
   "execution_count": null,
   "id": "299538e3",
   "metadata": {},
   "outputs": [],
   "source": []
  }
 ],
 "metadata": {
  "kernelspec": {
   "display_name": "Python 3",
   "language": "python",
   "name": "python3"
  },
  "language_info": {
   "codemirror_mode": {
    "name": "ipython",
    "version": 3
   },
   "file_extension": ".py",
   "mimetype": "text/x-python",
   "name": "python",
   "nbconvert_exporter": "python",
   "pygments_lexer": "ipython3",
   "version": "3.8.8"
  }
 },
 "nbformat": 4,
 "nbformat_minor": 5
}
