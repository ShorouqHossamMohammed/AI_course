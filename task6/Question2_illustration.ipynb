{
 "cells": [
  {
   "cell_type": "code",
   "execution_count": 5,
   "id": "7ffd7128",
   "metadata": {},
   "outputs": [],
   "source": [
    "class majorclass:\n",
    "        \n",
    "    def __init__(self,attr1,attr2,attr3):\n",
    "        self.attr1=attr1        #puplic member\n",
    "        self._attr2=attr2       #protected member     \n",
    "        self.__attr3=attr3      #private member \n",
    "        \n",
    "    def AcessPrivateMember(self):\n",
    "        print(self.__attr3)\n",
    "        \n",
    "class derivedclass(majorclass):\n",
    "     pass"
   ]
  },
  {
   "cell_type": "code",
   "execution_count": 6,
   "id": "5df2905b",
   "metadata": {},
   "outputs": [],
   "source": [
    "a=majorclass('sun','star','moon')        #try to access members in the super class"
   ]
  },
  {
   "cell_type": "code",
   "execution_count": 7,
   "id": "c7ec5409",
   "metadata": {},
   "outputs": [
    {
     "data": {
      "text/plain": [
       "'sun'"
      ]
     },
     "execution_count": 7,
     "metadata": {},
     "output_type": "execute_result"
    }
   ],
   "source": [
    "a.attr1     #puplic member can be accessed directly"
   ]
  },
  {
   "cell_type": "code",
   "execution_count": 40,
   "id": "9f58b734",
   "metadata": {},
   "outputs": [
    {
     "data": {
      "text/plain": [
       "'star'"
      ]
     },
     "execution_count": 40,
     "metadata": {},
     "output_type": "execute_result"
    }
   ],
   "source": [
    "a._attr2    #protected member can be accessed directly"
   ]
  },
  {
   "cell_type": "code",
   "execution_count": 41,
   "id": "523c76e3",
   "metadata": {},
   "outputs": [
    {
     "ename": "AttributeError",
     "evalue": "'majorclass' object has no attribute '__attr3'",
     "output_type": "error",
     "traceback": [
      "\u001b[1;31m---------------------------------------------------------------------------\u001b[0m",
      "\u001b[1;31mAttributeError\u001b[0m                            Traceback (most recent call last)",
      "\u001b[1;32m<ipython-input-41-1459be820134>\u001b[0m in \u001b[0;36m<module>\u001b[1;34m\u001b[0m\n\u001b[1;32m----> 1\u001b[1;33m \u001b[0ma\u001b[0m\u001b[1;33m.\u001b[0m\u001b[0m__attr3\u001b[0m     \u001b[1;31m#private member can't be accessed directly\u001b[0m\u001b[1;33m\u001b[0m\u001b[1;33m\u001b[0m\u001b[0m\n\u001b[0m",
      "\u001b[1;31mAttributeError\u001b[0m: 'majorclass' object has no attribute '__attr3'"
     ]
    }
   ],
   "source": [
    "a.__attr3   #private members can't be accessed directly ,but can ba accessed by using a function"
   ]
  },
  {
   "cell_type": "code",
   "execution_count": 42,
   "id": "4654b568",
   "metadata": {},
   "outputs": [
    {
     "name": "stdout",
     "output_type": "stream",
     "text": [
      "moon\n"
     ]
    }
   ],
   "source": [
    "a.AcessPrivateMember()   #public method to access private member"
   ]
  },
  {
   "cell_type": "code",
   "execution_count": 44,
   "id": "c4ba611f",
   "metadata": {},
   "outputs": [
    {
     "data": {
      "text/plain": [
       "'moon'"
      ]
     },
     "execution_count": 44,
     "metadata": {},
     "output_type": "execute_result"
    }
   ],
   "source": [
    "a._majorclass__attr3                #also can be accessed by adding _parent(superclass) before attribute or method name(__privatemember)"
   ]
  },
  {
   "cell_type": "code",
   "execution_count": 33,
   "id": "64c44f63",
   "metadata": {},
   "outputs": [],
   "source": [
    "b=derivedclass('she','he','it')          #try to access members in the sub class class"
   ]
  },
  {
   "cell_type": "code",
   "execution_count": 65,
   "id": "86ad38c2",
   "metadata": {},
   "outputs": [
    {
     "data": {
      "text/plain": [
       "'she'"
      ]
     },
     "execution_count": 65,
     "metadata": {},
     "output_type": "execute_result"
    }
   ],
   "source": [
    "b.attr1                                  #public members can be accessed directly"
   ]
  },
  {
   "cell_type": "code",
   "execution_count": 34,
   "id": "b400c647",
   "metadata": {},
   "outputs": [
    {
     "data": {
      "text/plain": [
       "'he'"
      ]
     },
     "execution_count": 34,
     "metadata": {},
     "output_type": "execute_result"
    }
   ],
   "source": [
    "b._attr2                                 #protected members can be accessed directly"
   ]
  },
  {
   "cell_type": "code",
   "execution_count": 45,
   "id": "a2656cc5",
   "metadata": {},
   "outputs": [
    {
     "name": "stdout",
     "output_type": "stream",
     "text": [
      "it\n"
     ]
    }
   ],
   "source": [
    "# Question_2: How to access private member in from a super class in a sub class?\n",
    "\n",
    "b.AcessPrivateMember()     #can access private members when using a buplic function from super class"
   ]
  },
  {
   "cell_type": "code",
   "execution_count": 61,
   "id": "30d772f1",
   "metadata": {},
   "outputs": [
    {
     "data": {
      "text/plain": [
       "'it'"
      ]
     },
     "execution_count": 61,
     "metadata": {},
     "output_type": "execute_result"
    }
   ],
   "source": [
    "b._majorclass__attr3     #also can be accessed by adding _parent(superclass)before method or attribute name(__privateattribute)"
   ]
  },
  {
   "cell_type": "code",
   "execution_count": null,
   "id": "0b342d78",
   "metadata": {},
   "outputs": [],
   "source": []
  }
 ],
 "metadata": {
  "kernelspec": {
   "display_name": "Python 3",
   "language": "python",
   "name": "python3"
  },
  "language_info": {
   "codemirror_mode": {
    "name": "ipython",
    "version": 3
   },
   "file_extension": ".py",
   "mimetype": "text/x-python",
   "name": "python",
   "nbconvert_exporter": "python",
   "pygments_lexer": "ipython3",
   "version": "3.8.8"
  }
 },
 "nbformat": 4,
 "nbformat_minor": 5
}
