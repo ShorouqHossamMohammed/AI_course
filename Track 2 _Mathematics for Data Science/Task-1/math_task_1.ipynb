{
 "cells": [
  {
   "cell_type": "markdown",
   "id": "ef4ffa77",
   "metadata": {},
   "source": [
    "<h2 style='color:#4a3200;'>Task 1 solution :</h2>"
   ]
  },
  {
   "cell_type": "markdown",
   "id": "f35879b0",
   "metadata": {},
   "source": [
    "<h3 style='color:#996b00;'>1. How do you convert nonlinear to linear equations?</h3>"
   ]
  },
  {
   "cell_type": "markdown",
   "id": "b6cec869",
   "metadata": {},
   "source": [
    "<div style='width=\"420\";height=\"315\";align=\"left\";'>\n",
    "     <a href=\"http://www.youtube.com/watch?feature=player_embedded&v=2t9f0fHKTLw\"   target=\"_blank\">\n",
    "    <img   src=\"http://img.youtube.com/vi/2t9f0fHKTLw/mqdefault.jpg\"   alt=\"Watch the video\" border=\"none\" />\n",
    "</a>\n",
    "</div>    "
   ]
  },
  {
   "cell_type": "markdown",
   "id": "0d576729",
   "metadata": {},
   "source": [
    "<h3 style='color:#996b00;'>2. What is PCA and how it works?</h3>"
   ]
  },
  {
   "cell_type": "markdown",
   "id": "68252738",
   "metadata": {},
   "source": [
    "<ul>\n",
    "  <li>Principal Component Analysis (PCA) is a learning algorithm that reduces the dimensionality (number of features) within a dataset while still retaining as much information as possible. </li><br>\n",
    "\n",
    "<li>PCA reduces dimensionality by finding a new set of features called components, which are composites of the original features, but are uncorrelated with one another. The first component accounts for the largest possible variability in the data, the second component the second most variability, and so on.</li>\n",
    " \n",
    " \n",
    "</ul>"
   ]
  },
  {
   "cell_type": "markdown",
   "id": "86fb71dd",
   "metadata": {},
   "source": [
    "<h3 style='color:#996b00;'>3. What are C++ Libraries / Frameworks for AI??</h3>"
   ]
  },
  {
   "cell_type": "markdown",
   "id": "094afa02",
   "metadata": {},
   "source": [
    "<h4><li>1.Libraries:</li></h4>    \n",
    "<ul>\n",
    "<li>Caffe</li>\n",
    "<li>MLPack</li> \n",
    "<li>SHARK Library</li> \n",
    "<li>Armadillo</li> \n",
    "<li>OpenNN</li>\n",
    "<li>FANN</li>\n",
    "<li>Boosting</li>\n",
    "<li>Faisis</li>\n",
    "</ul>\n",
    "\n",
    " \n"
   ]
  },
  {
   "cell_type": "markdown",
   "id": "8f299559",
   "metadata": {},
   "source": [
    "<h4><li>2.Frameworks:</li></h4> \n",
    "<ul>\n",
    "    <li>TensorFlow</li>\n",
    "    <li>Microsoft CNTK</li>\n",
    "    <li>Scikit-learn</li>\n",
    "    \n",
    "</ul>"
   ]
  },
  {
   "cell_type": "code",
   "execution_count": null,
   "id": "f5746918",
   "metadata": {},
   "outputs": [],
   "source": []
  }
 ],
 "metadata": {
  "kernelspec": {
   "display_name": "Python 3",
   "language": "python",
   "name": "python3"
  },
  "language_info": {
   "codemirror_mode": {
    "name": "ipython",
    "version": 3
   },
   "file_extension": ".py",
   "mimetype": "text/x-python",
   "name": "python",
   "nbconvert_exporter": "python",
   "pygments_lexer": "ipython3",
   "version": "3.8.8"
  }
 },
 "nbformat": 4,
 "nbformat_minor": 5
}
