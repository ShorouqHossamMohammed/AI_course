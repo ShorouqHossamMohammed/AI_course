{
 "cells": [
  {
   "cell_type": "markdown",
   "id": "a5095682",
   "metadata": {},
   "source": [
    "<h2 style='color:#3730A3;'>1. What is statistical tests, and its types?</h2>"
   ]
  },
  {
   "cell_type": "markdown",
   "id": "277953b4",
   "metadata": {},
   "source": [
    "<h3 style='color:#818CF8;'>What is statistical tests?</h3>"
   ]
  },
  {
   "cell_type": "markdown",
   "id": "ed20d70a",
   "metadata": {},
   "source": [
    "<P style='color:#000000;'>A statistical test is a procedure for deciding whether an assertion (e. g. a hypothesis) about a quantitative feature of a population is true or false. We test a hypothesis of this sort by drawing a random sample from the population in question and calculating an appropriate statistic on its items. If, in doing so, we obtain a value of the statistic that would occur rarely when the hypothesis is true; we would have reason to reject the hypothesis. The choice of the statistical test depends on the research aim, research plan, statistical model, and the variables' measurements procedure, its power and efficiency.</P>"
   ]
  },
  {
   "cell_type": "markdown",
   "id": "a8cb1781",
   "metadata": {},
   "source": [
    "<h3 style='color:#818CF8;'>Statistical tests are used in hypothesis testing to:</h3>"
   ]
  },
  {
   "cell_type": "markdown",
   "id": "ce2dd5ed",
   "metadata": {},
   "source": [
    "- determine whether a predictor variable has a statistically significant relationship with an outcome variable.\n",
    "- estimate the difference between two or more groups.\n"
   ]
  },
  {
   "cell_type": "markdown",
   "id": "2128f9d5",
   "metadata": {},
   "source": [
    "<h3 style='color:#818CF8;'>Statistical tests' types:</h3>"
   ]
  },
  {
   "cell_type": "markdown",
   "id": "e22bf435",
   "metadata": {},
   "source": [
    "#### 1. parametric tests:\n",
    "- .`Regression:`\n",
    "<p>- Regression tests\n",
    "Regression tests look for cause-and-effect relationships. They can be used to estimate the effect of one or more continuous variables   on another variable.</p><br>\n",
    "   1. Simple linear regression.===>> Research question example: What is the effect of income on longevity?<br>\n",
    "   2. Multiple linear regression.===>> Research question example: What is the effect of income and minutes of exercise per day on longevity?<br>\n",
    "   3. Logistic regression.===>> Research question example: What is the effect of drug dosage on the survival of a test subject?<br><br>\n",
    "- .`Comparison:`\n",
    "<p>- Comparison tests\n",
    "Comparison tests look for differences among group means. They can be used to test the effect of a categorical variable on the mean value of some other characteristic.</p><br>\n",
    "   1. Paired t-test.===>> Research question example:What is the effect of two different test prep programs on the average exam scores for students from the same class?<br>\n",
    "   2. Independent t-test.===>> Research question example:What is the difference in average exam scores for students from two different schools?<br>\n",
    "   3. ANOVA.===>> Research question example: What is the difference in average pain levels among post-surgical patients given three different painkillers?<br>\n",
    "   4. MANOVA===>> Research question example: What is the effect of flower species on petal length, petal width, and stem length?<br><br>\n",
    "- .`Correlation:`\n",
    "<p>- Correlation tests\n",
    "check whether variables are related without hypothesizing a cause-and-effect relationship.</p><br>\n",
    "   1. Pearson’s r.===>> Research question example:How are latitude and temperature related?\n",
    "   \n",
    "#### 2. Nonparametric test:\n",
    "<p>- Non-parametric tests don’t make as many assumptions about the data, and are useful when one or more of the common statistical assumptions are violated. However, the inferences they make aren’t as strong as with parametric tests.</p>\n",
    "\n",
    "- .`Spearman’s r` ---> use in place of Pearson’s r.\n",
    "- .`Chi square test of independence` ---> use in place of Pearson’s r.\n",
    "- .`Sign test` ---> use in place of One-sample t-test.\n",
    "- .`Kruskal–Wallis H` ---> use in place of ANOVA.\n",
    "- .`ANOSIM` ---> use in place of MANOVA.\n",
    "- .`Wilcoxon Rank-Sum test` ---> use in place of Independent t-test.\n",
    "- .`Wilcoxon Signed-rank test` ---> use in place of Paired t-test.\n"
   ]
  },
  {
   "cell_type": "markdown",
   "id": "028cf1ed",
   "metadata": {},
   "source": [
    "<h3 style='color:#818CF8;'>Flowchart: choosing a statistical test:</h3>"
   ]
  },
  {
   "cell_type": "markdown",
   "id": "a8c06f0c",
   "metadata": {},
   "source": [
    "<img style=\"width:50px;height:100px;align:left\" src=\"https://cdn.scribbr.com/wp-content/uploads//2020/01/flowchart-for-choosing-a-statistical-test.png\" >"
   ]
  },
  {
   "cell_type": "markdown",
   "id": "be80ea07",
   "metadata": {},
   "source": [
    "<hr style=\"height:1px;border:none;color:#333;background-color:#333;\">\n",
    "<h2 style='color:#3730A3;'>2. What is statistical tests, and its types?\n",
    "How can hypothesis testing be used in business?</h2>"
   ]
  },
  {
   "cell_type": "markdown",
   "id": "ea939ef2",
   "metadata": {},
   "source": [
    "<p>Hypothesis tests are often used in business to determine whether or not some new advertising campaign, marketing technique, etc. causes increased sales.<br><br>\n",
    "- For example, suppose a company believes that spending more money on digital advertising leads to increased sales. To test this, the company may increase money spent on digital advertising during a two-month period and collect data to see if overall sales have increased.<br><br>\n",
    "They may perform a hypothesis test using the following hypotheses:</p>\n",
    "\n",
    "- **.`H0:`** μafter = μbefore (the mean sales is the same before and after spending more on advertising).\n",
    "- **.`HA:`** μafter > μbefore (the mean sales increased after spending more on advertising).\n",
    "<p>If the p-value of the test is less than some significance level (e.g. α = .05), then the company can reject the null hypothesis and conclude that increased digital advertising leads to increased sales.</p>"
   ]
  },
  {
   "cell_type": "code",
   "execution_count": null,
   "id": "0872aa5b",
   "metadata": {},
   "outputs": [],
   "source": []
  }
 ],
 "metadata": {
  "kernelspec": {
   "display_name": "Python 3",
   "language": "python",
   "name": "python3"
  },
  "language_info": {
   "codemirror_mode": {
    "name": "ipython",
    "version": 3
   },
   "file_extension": ".py",
   "mimetype": "text/x-python",
   "name": "python",
   "nbconvert_exporter": "python",
   "pygments_lexer": "ipython3",
   "version": "3.8.8"
  }
 },
 "nbformat": 4,
 "nbformat_minor": 5
}
