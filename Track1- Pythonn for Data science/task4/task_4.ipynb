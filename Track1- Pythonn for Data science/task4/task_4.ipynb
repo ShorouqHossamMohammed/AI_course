{
 "cells": [
  {
   "cell_type": "code",
   "execution_count": 1,
   "id": "9f97ff43",
   "metadata": {},
   "outputs": [
    {
     "data": {
      "text/plain": [
       "OrderedDict([('age', 24), ('hoppy', 'origamy'), ('name', 'ahmed')])"
      ]
     },
     "execution_count": 1,
     "metadata": {},
     "output_type": "execute_result"
    }
   ],
   "source": [
    "#sorting a dict by keys\n",
    "from collections import OrderedDict\n",
    "dict1= {}\n",
    "dict1['name']='ahmed'\n",
    "dict1['age']=24\n",
    "dict1['hoppy']='origamy'\n",
    "dict2=OrderedDict(sorted(dict1.items()) )\n",
    "dict2"
   ]
  },
  {
   "cell_type": "code",
   "execution_count": 2,
   "id": "997c39d1",
   "metadata": {},
   "outputs": [
    {
     "name": "stdout",
     "output_type": "stream",
     "text": [
      "7\n",
      "-1\n",
      "12\n",
      "0.75\n"
     ]
    }
   ],
   "source": [
    "#using self made lib\n",
    "import mylibshorouq\n",
    "mylibshorouq.addxy(3,4)\n",
    "mylibshorouq.subxy(3,4)\n",
    "mylibshorouq.multxy(3,4)\n",
    "mylibshorouq.divxy(3,4)"
   ]
  },
  {
   "cell_type": "code",
   "execution_count": 16,
   "id": "b3fcdc91",
   "metadata": {},
   "outputs": [
    {
     "name": "stdout",
     "output_type": "stream",
     "text": [
      "enter num4\n",
      "enter num7\n",
      "enter num9\n",
      "enter num0\n",
      "9\n",
      "7\n",
      "4\n"
     ]
    }
   ],
   "source": [
    "#Create a function receives stack elements as inputs from user while not equal to zero\n",
    "\n",
    "from queue import LifoQueue as stack\n",
    "\n",
    "st= stack()\n",
    "def putintostack():\n",
    "     while True:\n",
    "        x=int(input('enter num'))\n",
    "        if x ==0:\n",
    "            break\n",
    "        else:\n",
    "            st.put(x)\n",
    "            \n",
    "putintostack()   \n",
    "for i in range(st.qsize()) :\n",
    "    print(st.get())\n",
    " \n"
   ]
  },
  {
   "cell_type": "code",
   "execution_count": 23,
   "id": "374b8539",
   "metadata": {},
   "outputs": [
    {
     "name": "stdout",
     "output_type": "stream",
     "text": [
      "enter num3\n",
      "enter num3\n",
      "enter num2\n",
      "enter num7\n",
      "enter num0\n",
      "3\n",
      "2\n",
      "7\n"
     ]
    }
   ],
   "source": [
    "#Implement Unordered set\n",
    "class UnOrdSet:\n",
    "    \n",
    "    def add_element(self):\n",
    "        self.element=[]\n",
    "        while True:\n",
    "            x=int(input('enter num'))\n",
    "            if x ==0:\n",
    "                break\n",
    "            else:\n",
    "                 if x  not in self.element:\n",
    "                    self.element.append(x)\n",
    "   \n",
    "    def print_element(self):\n",
    "        for i in self.element:\n",
    "            print(i)\n",
    "a=UnOrdSet()\n",
    "a.add_element()\n",
    "a.print_element()"
   ]
  },
  {
   "cell_type": "code",
   "execution_count": 29,
   "id": "f9f0769d",
   "metadata": {},
   "outputs": [
    {
     "name": "stdout",
     "output_type": "stream",
     "text": [
      "enter num4\n",
      "enter num5\n",
      "enter num2\n",
      "enter num2\n",
      "enter num8\n",
      "enter num0\n",
      "2\n",
      "2\n",
      "4\n",
      "5\n",
      "8\n"
     ]
    }
   ],
   "source": [
    "#Implement Multi set \n",
    "class MultiSet:\n",
    "    \n",
    "    def add_element(self):\n",
    "        self.element=[]\n",
    "        while True:\n",
    "            x=int(input('enter num'))\n",
    "            if x ==0:\n",
    "                break\n",
    "            else:\n",
    "                self.element.append(x)\n",
    "   \n",
    "    def print_element(self):\n",
    "        for i in sorted(self.element):\n",
    "            print(i)\n",
    "a=MultiSet()\n",
    "a.add_element()\n",
    "a.print_element()"
   ]
  },
  {
   "cell_type": "code",
   "execution_count": null,
   "id": "ec26ecff",
   "metadata": {},
   "outputs": [],
   "source": []
  },
  {
   "cell_type": "code",
   "execution_count": null,
   "id": "bb08ce5a",
   "metadata": {},
   "outputs": [],
   "source": []
  },
  {
   "cell_type": "code",
   "execution_count": null,
   "id": "299538e3",
   "metadata": {},
   "outputs": [],
   "source": []
  }
 ],
 "metadata": {
  "kernelspec": {
   "display_name": "Python 3",
   "language": "python",
   "name": "python3"
  },
  "language_info": {
   "codemirror_mode": {
    "name": "ipython",
    "version": 3
   },
   "file_extension": ".py",
   "mimetype": "text/x-python",
   "name": "python",
   "nbconvert_exporter": "python",
   "pygments_lexer": "ipython3",
   "version": "3.8.8"
  }
 },
 "nbformat": 4,
 "nbformat_minor": 5
}
