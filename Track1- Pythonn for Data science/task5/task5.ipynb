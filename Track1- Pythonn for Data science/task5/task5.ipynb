{
 "cells": [
  {
   "cell_type": "code",
   "execution_count": 6,
   "id": "303ffdd0",
   "metadata": {},
   "outputs": [
    {
     "name": "stdout",
     "output_type": "stream",
     "text": [
      "welcome to class\n",
      "student created\n",
      "oject deleted\n"
     ]
    }
   ],
   "source": [
    "# task 5\n",
    "class students:\n",
    "    def __init__(self):\n",
    "        print('welcome to class')\n",
    "    def __del__(self):\n",
    "        print('oject deleted')\n",
    "std=students()\n",
    "print ('student created')\n",
    "del std"
   ]
  },
  {
   "cell_type": "code",
   "execution_count": null,
   "id": "b06a246a",
   "metadata": {},
   "outputs": [],
   "source": []
  },
  {
   "cell_type": "code",
   "execution_count": null,
   "id": "ea24e06d",
   "metadata": {},
   "outputs": [],
   "source": []
  }
 ],
 "metadata": {
  "kernelspec": {
   "display_name": "Python 3",
   "language": "python",
   "name": "python3"
  },
  "language_info": {
   "codemirror_mode": {
    "name": "ipython",
    "version": 3
   },
   "file_extension": ".py",
   "mimetype": "text/x-python",
   "name": "python",
   "nbconvert_exporter": "python",
   "pygments_lexer": "ipython3",
   "version": "3.8.8"
  }
 },
 "nbformat": 4,
 "nbformat_minor": 5
}
