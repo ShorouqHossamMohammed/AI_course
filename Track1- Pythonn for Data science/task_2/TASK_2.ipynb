{
 "cells": [
  {
   "cell_type": "code",
   "execution_count": 1,
   "id": "93e679f5",
   "metadata": {},
   "outputs": [
    {
     "name": "stdout",
     "output_type": "stream",
     "text": [
      "enter the temp.56\n",
      "enter -f- if it farenhaite and -c- if it celesiecec\n",
      "14.755555555555555\n"
     ]
    }
   ],
   "source": [
    "#first Q is the last one\n",
    "#Q(2)\n",
    "temp=int(input('enter the temp.'))\n",
    "degree=input('enter -f- if it farenhaite and -c- if it celesiece')\n",
    "if degree=='f':\n",
    "    print(5*(temp-32/9))\n",
    "elif degree=='c':\n",
    "     print(temp/5+32/9)"
   ]
  },
  {
   "cell_type": "code",
   "execution_count": 2,
   "id": "4c36742b",
   "metadata": {},
   "outputs": [
    {
     "name": "stdout",
     "output_type": "stream",
     "text": [
      "enter the number of rows2\n",
      "* \n"
     ]
    }
   ],
   "source": [
    "#Q(3)\n",
    "row=int(input('enter the number of rows'))\n",
    "for j in range(0,row):\n",
    "    if j<= row/2:\n",
    "        for i in range(0,j):\n",
    "            print('* ')\n",
    "    else:\n",
    "        for i in range(0,row-j-1):\n",
    "            print('* ')"
   ]
  },
  {
   "cell_type": "code",
   "execution_count": 3,
   "id": "a576eb04",
   "metadata": {},
   "outputs": [
    {
     "name": "stdout",
     "output_type": "stream",
     "text": [
      "enter a wordshorouq\n",
      "quorohs\n",
      "enter a wordshorouq\n",
      "quorohs\n"
     ]
    }
   ],
   "source": [
    "#Q(4)\n",
    "word = input('enter a word')\n",
    "print(word[::-1])\n",
    "######another sol,\n",
    "word = input('enter a word')\n",
    "reverse=''\n",
    "for i in reversed(word):\n",
    "    reverse+=i \n",
    "print(reverse)    \n"
   ]
  },
  {
   "cell_type": "code",
   "execution_count": null,
   "id": "5e0f2271",
   "metadata": {},
   "outputs": [],
   "source": [
    "#Q5\n",
    "def maximum(a, b, c):\n",
    "  \n",
    "    if (a >= b) and (a >= c):\n",
    "        largest = a\n",
    "  \n",
    "    elif (b >= a) and (b >= c):\n",
    "        largest = b\n",
    "    else:\n",
    "        largest = c\n",
    "          \n",
    "    return largest\n",
    "  \n",
    "  \n",
    " \n",
    "a = int(input('inter first num'))\n",
    "b = int(input('inter second num'))\n",
    "c =int(input('inter third num'))\n",
    "print(maximum(a, b, c))\n"
   ]
  },
  {
   "cell_type": "markdown",
   "id": "d35e20e4",
   "metadata": {},
   "source": []
  },
  {
   "cell_type": "code",
   "execution_count": 5,
   "id": "db0805df",
   "metadata": {},
   "outputs": [
    {
     "name": "stdout",
     "output_type": "stream",
     "text": [
      "74\n"
     ]
    }
   ],
   "source": [
    "#Q6\n",
    "list1 = [11, 5, 17, 18, 23]\n",
    "def sumlist(list1):\n",
    "    total = 0\n",
    "    for i in range(0, len(list1)):\n",
    "        total = total + list1[i]\n",
    "    return total\n",
    "\n",
    "print(sumlist(list1))"
   ]
  },
  {
   "cell_type": "code",
   "execution_count": 6,
   "id": "6f31715a",
   "metadata": {},
   "outputs": [
    {
     "name": "stdout",
     "output_type": "stream",
     "text": [
      "0\n",
      "1\n",
      "2\n",
      "4\n",
      "5\n"
     ]
    }
   ],
   "source": [
    "#Q7\n",
    "for x in range(6):\n",
    "    if (x == 3 or x==6):\n",
    "        continue\n",
    "    print(x)\n"
   ]
  },
  {
   "cell_type": "code",
   "execution_count": null,
   "id": "181c82cf",
   "metadata": {},
   "outputs": [],
   "source": [
    "#Q8\n",
    "def factorial(n):\n",
    "    if n == 0:\n",
    "        return 1\n",
    "    else:\n",
    "        return n * factorial(n-1)\n",
    "n=int(input(\"Input a number to compute the factiorial : \"))\n",
    "print(factorial(n))"
   ]
  },
  {
   "cell_type": "code",
   "execution_count": null,
   "id": "88378aeb",
   "metadata": {},
   "outputs": [],
   "source": [
    "#Q9\n",
    "def unique_list(l):\n",
    "    x = []\n",
    "    for a in l:\n",
    "        if a not in x:\n",
    "            x.append(a)\n",
    "    return x\n",
    "\n",
    "list2=[1,2,3,3,3,3,4,5]\n",
    "print(unique_list(list2)) \n"
   ]
  },
  {
   "cell_type": "code",
   "execution_count": null,
   "id": "81b62620",
   "metadata": {},
   "outputs": [],
   "source": [
    "#Q1\n",
    "for i in range(1500,2701,5):\n",
    "    if i%7 ==0 :\n",
    "        print(i)"
   ]
  },
  {
   "cell_type": "code",
   "execution_count": null,
   "id": "6ef94563",
   "metadata": {},
   "outputs": [],
   "source": [
    " def stars(n):\n",
    "    for line in range(1, 2*n):\n",
    "         if line <= n:\n",
    "            for star in range(1, line+1):\n",
    "                print(\"*\", end=\"\")\n",
    "                print()\n",
    "        else:\n",
    "            for star in range(2*n-line, 0, -1):\n",
    "                print(\"*\", end=\"\")\n",
    "                print()\n",
    " # stars(5)\n"
   ]
  },
  {
   "cell_type": "markdown",
   "id": "70d0525f",
   "metadata": {},
   "source": [
    "##### "
   ]
  }
 ],
 "metadata": {
  "kernelspec": {
   "display_name": "Python 3",
   "language": "python",
   "name": "python3"
  },
  "language_info": {
   "codemirror_mode": {
    "name": "ipython",
    "version": 3
   },
   "file_extension": ".py",
   "mimetype": "text/x-python",
   "name": "python",
   "nbconvert_exporter": "python",
   "pygments_lexer": "ipython3",
   "version": "3.8.8"
  }
 },
 "nbformat": 4,
 "nbformat_minor": 5
}
