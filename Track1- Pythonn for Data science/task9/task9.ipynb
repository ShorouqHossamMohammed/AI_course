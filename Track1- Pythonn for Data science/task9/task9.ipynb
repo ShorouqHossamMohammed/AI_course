{
 "cells": [
  {
   "cell_type": "markdown",
   "id": "ae22bc5f",
   "metadata": {},
   "source": [
    "<h2 style='color:#3730A3;'>1. What are architectural patterns (Types,Usage) ?</h2>"
   ]
  },
  {
   "cell_type": "markdown",
   "id": "8a7f52c8",
   "metadata": {},
   "source": [
    "<h3 style='color:#818CF8;'>What is Software Architecture?</h3>"
   ]
  },
  {
   "cell_type": "markdown",
   "id": "e03c8fbb",
   "metadata": {},
   "source": [
    "<p>Software architecture is the blueprint of building software. It shows the overall structure of the software, the collection of components in it, and how they interact with one another while hiding the implementation.  </p>"
   ]
  },
  {
   "cell_type": "markdown",
   "id": "cbae7b08",
   "metadata": {},
   "source": [
    "<h3 style='color:#818CF8;'>Architectural patterns :</h3>"
   ]
  },
  {
   "cell_type": "markdown",
   "id": "2ae4f97d",
   "metadata": {},
   "source": [
    "<p>There are various ways to organize the components in software architecture. And the different predefined organization of components in software architectures are known as software architecture patterns.  A lot of patterns were tried and tested. Most of them have successfully solved various problems. In each pattern, the components are organized differently for solving a specific problem in software architectures.  </p>"
   ]
  },
  {
   "cell_type": "markdown",
   "id": "bec5e62d",
   "metadata": {},
   "source": [
    "<h3 style='color:#818CF8;'>Different Software Architecture Patterns :</h3>"
   ]
  },
  {
   "cell_type": "markdown",
   "id": "848580b4",
   "metadata": {},
   "source": [
    "**`1. Layered Pattern`**\n",
    "<p>components(code) in this pattern are separated into layers of subtasks and they are arranged one above another.  \n",
    "Each layer has unique tasks to do and all the layers are independent of one another. Since each layer is independent, one can modify the code inside a layer without affecting others.  </p>\n",
    "\n",
    "`ideal for :`\n",
    "<p>E-commerce web applications development like Amazon.  </p>\n",
    "\n",
    "**`2. Client-Server Pattern`**\n",
    "<p>The client-server pattern has two major entities. They are a server and multiple clients.  </p>\n",
    "\n",
    "`Examples:`\n",
    "- Email.\n",
    "- WWW.\n",
    "- File sharing apps.\n",
    "- Banking, etc…\n",
    "\n",
    "**`3. Event-Driven Pattern`**\n",
    "<p>Event-Driven Architecture is an agile approach in which services (operations) of the software are triggered by events.</p>\n",
    "\n",
    "`Ideal for:`\n",
    "<p>Building websites with JavaScript and e-commerce websites in general.  </p>\n",
    "\n",
    "**`4. Microkernel Pattern`**\n",
    "<p>Microkernel pattern has two major components. They are a core system and plug-in modules. </p>\n",
    "\n",
    "- The core system handles the fundamental and minimal operations of the application.\n",
    "- The plug-in modules handle the extended functionalities (like extra features) and customized processing\n",
    "\n",
    "`Ideal for:`\n",
    "<p>Product-based applications and scheduling applications. So this pattern is mostly preferred for app development.  </p>\n",
    "\n",
    "**`5. Microservices Pattern`**\n",
    "<p>Product-based applications and scheduling applications. We love new features that keep giving dopamine boost to our brain. Such as Instagram reels, YouTube Shorts and a lot more that feasts us digitally. So this pattern is mostly preferred for app development.  </p>\n",
    "\n",
    "`Examples :`\n",
    "<p>Netflix is one of the most popular examples of software built-in microservices architecture. This pattern is most suitable for websites and web apps having small components.</p>"
   ]
  },
  {
   "cell_type": "markdown",
   "id": "4747bd4f",
   "metadata": {},
   "source": [
    "<h3 style='color:#818CF8;'>Video that can help :</h3>\n",
    "<div style='width=\"420\";height=\"315\";align=\"left\";'>\n",
    "     <a href=\"http://www.youtube.com/watch?feature=player_embedded&v=lTkL1oIMiaU\"   target=\"_blank\">\n",
    "    <img   src=\"http://img.youtube.com/vi/lTkL1oIMiaU/mqdefault.jpg\"   alt=\"Watch the video\" border=\"none\" />\n",
    "</a>\n",
    "</div>    "
   ]
  },
  {
   "cell_type": "markdown",
   "id": "916ef34b",
   "metadata": {},
   "source": [
    "<h2 style='color:#3730A3;'>2. What is cron jobs ?</h2>\n"
   ]
  },
  {
   "cell_type": "markdown",
   "id": "e8e5113b",
   "metadata": {},
   "source": [
    "<p>A cron job is a Linux command used for scheduling tasks to be executed sometime in the future. This is normally used to schedule a job that is executed periodically – for example, to send out a notice every morning. Some scripts, such as Drupal and WHMCS may require you to set up cron jobs to perform certain functions.</p>"
   ]
  },
  {
   "cell_type": "markdown",
   "id": "138b5666",
   "metadata": {},
   "source": [
    "<h3 style='color:#818CF8;'>For most cron jobs, there are three components present:</h3>\n",
    "\n",
    "1. The script that is to be called or executed.\n",
    " \n",
    "5. The command that executes the script on a reoccurring basis. This is typically set in cPanel.\n",
    " \n",
    "7. The action or output of the script, which depends on what the script being called does. Frequently, scripts called as cron jobs modify files or databases. However, they can perform other tasks that do not modify data on the server as well, such as sending out email notifications."
   ]
  },
  {
   "cell_type": "code",
   "execution_count": null,
   "id": "7ed806ab",
   "metadata": {},
   "outputs": [],
   "source": []
  }
 ],
 "metadata": {
  "kernelspec": {
   "display_name": "Python 3",
   "language": "python",
   "name": "python3"
  },
  "language_info": {
   "codemirror_mode": {
    "name": "ipython",
    "version": 3
   },
   "file_extension": ".py",
   "mimetype": "text/x-python",
   "name": "python",
   "nbconvert_exporter": "python",
   "pygments_lexer": "ipython3",
   "version": "3.8.8"
  }
 },
 "nbformat": 4,
 "nbformat_minor": 5
}
