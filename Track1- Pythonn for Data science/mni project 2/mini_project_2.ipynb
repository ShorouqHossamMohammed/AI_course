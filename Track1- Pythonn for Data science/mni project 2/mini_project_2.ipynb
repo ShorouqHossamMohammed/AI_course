{
 "cells": [
  {
   "cell_type": "markdown",
   "id": "3da75ed9",
   "metadata": {},
   "source": [
    "<h2 style='color:#00423b;'>Mini Project 2</h2>\n",
    "<hr  style=\"height:1px;border:none;color:#333;background-color:#333;\">"
   ]
  },
  {
   "cell_type": "markdown",
   "id": "d3541b29",
   "metadata": {},
   "source": [
    "<h3 style='color:#5ca08e;'>Statement :-</h3>\n",
    "\n",
    "<p style='color:#000000;'>The task is to scrap the “IMDB” site for the top 250 movie ratings and save the result on an excel sheet. The result should contain four columns: Movie Rank, Movie Name, Year, Rating.</p>"
   ]
  },
  {
   "cell_type": "code",
   "execution_count": 62,
   "id": "6aa38797",
   "metadata": {},
   "outputs": [
    {
     "name": "stdout",
     "output_type": "stream",
     "text": [
      "     Movie Rank                Movie Name    Year  Rating\n",
      "0             1  The Shawshank Redemption  (1994)     9.2\n",
      "1             2             The Godfather  (1972)     9.2\n",
      "2             3           The Dark Knight  (2008)     9.0\n",
      "3             4     The Godfather Part II  (1974)     9.0\n",
      "4             5              12 Angry Men  (1957)     8.9\n",
      "..          ...                       ...     ...     ...\n",
      "245         246               Dersu Uzala  (1975)     8.0\n",
      "246         247                   Aladdin  (1992)     8.0\n",
      "247         248                    Gandhi  (1982)     8.0\n",
      "248         249                  The Help  (2011)     8.0\n",
      "249         250            The Iron Giant  (1999)     8.0\n",
      "\n",
      "[250 rows x 4 columns]\n"
     ]
    }
   ],
   "source": [
    "from bs4 import BeautifulSoup                                          # import neede libraries\n",
    "import requests\n",
    "import csv\n",
    "import itertools\n",
    "import pandas as pd\n",
    "\n",
    "URL = 'https://www.imdb.com/chart/top/'                                # url of website to be scrapped\n",
    "\n",
    "url_content = requests.get(URL)                                        # get url content\n",
    "\n",
    "soup = BeautifulSoup(url_content.content,'lxml')                       # parse to html\n",
    "\n",
    "csv_file = open('scrapped_movies.csv','w',encoding='utf-8')            # open csv file to store data in\n",
    "writer = csv.writer(csv_file)\n",
    "writer.writerow(['Movie Rank','Movie Name','Year','Rating'])\n",
    "\n",
    "movies_info = soup.find_all('td',class_='titleColumn')                 # find intended tags \n",
    "movies_rate = soup.find_all('td',class_='ratingColumn imdbRating')\n",
    "\n",
    "\n",
    "for movie,rate in zip(movies_info,movies_rate) :                      # catch intended elements\n",
    "    movierank = movie.getText(separator='.').split('.')[0]\n",
    "    MovieName = movie.getText(separator='.').split('.')[2]\n",
    "    Year = movie.getText(separator='.').split('.')[4]\n",
    "    movieRate = rate.strong.text\n",
    "    writer.writerow([movierank,MovieName,Year,movieRate])             # store data in csv file\n",
    "\n",
    "    \n",
    "csv_file .close()                                                     # close csv file\n",
    "info = pd.read_csv('scrapped_movies.csv')                             # using pandas to visualise data\n",
    "print(info)"
   ]
  },
  {
   "cell_type": "code",
   "execution_count": null,
   "id": "24eb62c0",
   "metadata": {},
   "outputs": [],
   "source": []
  }
 ],
 "metadata": {
  "kernelspec": {
   "display_name": "Python 3",
   "language": "python",
   "name": "python3"
  },
  "language_info": {
   "codemirror_mode": {
    "name": "ipython",
    "version": 3
   },
   "file_extension": ".py",
   "mimetype": "text/x-python",
   "name": "python",
   "nbconvert_exporter": "python",
   "pygments_lexer": "ipython3",
   "version": "3.8.8"
  }
 },
 "nbformat": 4,
 "nbformat_minor": 5
}
