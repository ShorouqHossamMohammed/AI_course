{
 "cells": [
  {
   "cell_type": "markdown",
   "id": "99b27ab4",
   "metadata": {},
   "source": [
    "<h1>Mini Project 1</h1>"
   ]
  },
  {
   "cell_type": "markdown",
   "id": "bb33a2d5",
   "metadata": {},
   "source": [
    "<h3 style=\"color:blue;\">Statement:</h3>\n",
    "<p>The task is to create an “Online Library Management System.” For this, you have to create a library class that includes the following methods:</p>"
   ]
  },
  {
   "cell_type": "markdown",
   "id": "2067f125",
   "metadata": {},
   "source": [
    "<b>Displaybook():</b><br>To display the available books</br>\n",
    "\n",
    "<b>Lendbook():</b><br>To lend a book to a user</br>\n",
    "\n",
    "<b>Addbook():</b><br>To add a book to the library</br>\n",
    "\n",
    "<b>Returnbook():</b><br>To return the book to the library.</br>"
   ]
  },
  {
   "cell_type": "markdown",
   "id": "4cc35184",
   "metadata": {},
   "source": [
    "<h4>*As you have created a library class, now you will create an object and pass the following parameters in the constructor</h4>"
   ]
  },
  {
   "cell_type": "raw",
   "id": "deb97fba",
   "metadata": {},
   "source": [
    "HarryLibrary=Library(listofbooks, library_name)"
   ]
  },
  {
   "cell_type": "markdown",
   "id": "d6c02042",
   "metadata": {},
   "source": [
    "<h4>*After that, create a main function and run an infinite while loop that asks the users for their input whether they want to display, lend, add or return a book.</h4>"
   ]
  },
  {
   "cell_type": "markdown",
   "id": "a7417d5b",
   "metadata": {},
   "source": [
    "<h4 style=\"color:#708090\n",
    "112,128,144;\"> Optional:</h4>\n",
    "<p>Maintain a dictionary for the users who own a book. Dictionary should take book name as a key and name of the person as a value. Whenever you lend a book to a user, you should maintain a dictionary.</p>"
   ]
  },
  {
   "cell_type": "code",
   "execution_count": 1,
   "id": "23ca4567",
   "metadata": {},
   "outputs": [],
   "source": [
    "class library:\n",
    "    \n",
    "    def __init__(self,listofbooks,library_name):                   #taking list of books user need and the library name\n",
    "       \n",
    "        self.listofbooks=listofbooks\n",
    "        self.library_name=library_name\n",
    "        self.lended=[]\n",
    "    \n",
    "    def Displaybook(self):                                         # method to display list of books\n",
    "       \n",
    "        for i in (self.listofbooks):\n",
    "            \n",
    "            print(i)\n",
    "   \n",
    "    def Lendbook(self):                                            # method to lend a book\n",
    "        \n",
    "        l_book=input('please enter the name of book you want to lend : ')\n",
    "                \n",
    "        if l_book in self.listofbooks:                              #checking if the book exists\n",
    "            \n",
    "            self.listofbooks.remove(l_book)                         #removing lended book from list\n",
    "            self.lended.append(l_book)                              #adding lended book from to lended books' list\n",
    "            print('book has been lended successfully')\n",
    "            \n",
    "        else:    \n",
    "            \n",
    "            print('sorry, can not  find intended book!')\n",
    "   \n",
    "               \n",
    "    \n",
    "    def Addbook(self):                                             # method to add a book\n",
    "        \n",
    "        ad_book=input('please enter the name of book you want to add: ')\n",
    "        self.listofbooks.append(ad_book)\n",
    "        print('book has been added successfully')\n",
    "        \n",
    "    def Returnbook(self):\n",
    "        \n",
    "        re_book=input('please enter the name of book you want to return: ')\n",
    "        \n",
    "        if re_book in self.lended :                                #checking if the book exists\n",
    "            \n",
    "            self.lended.remove(re_book)                            #removing lended book from  lended list of books\n",
    "            self.listofbooks.append(re_book)                       #adding returned book to books' list\n",
    "            print('book has been returned successfully')\n",
    "            \n",
    "        else:    \n",
    "            \n",
    "            print('sorry, does not belong to this list of books!')"
   ]
  },
  {
   "cell_type": "code",
   "execution_count": null,
   "id": "ee3fcc1f",
   "metadata": {},
   "outputs": [
    {
     "name": "stdout",
     "output_type": "stream",
     "text": [
      "please enter weather you want to display, lend, add or return a book:display\n",
      "moon\n",
      "sun\n",
      "star\n",
      "planet\n",
      "please enter weather you want to display, lend, add or return a book:lend\n",
      "please enter the name of book you want to lend : sun\n",
      "book has been lended successfully\n",
      "please enter weather you want to display, lend, add or return a book:lend\n",
      "please enter the name of book you want to lend : venus\n",
      "sorry, can not  find intended book!\n",
      "please enter weather you want to display, lend, add or return a book:add\n",
      "please enter the name of book you want to add: venus\n",
      "book has been added successfully\n",
      "please enter weather you want to display, lend, add or return a book:display\n",
      "moon\n",
      "star\n",
      "planet\n",
      "venus\n",
      "please enter weather you want to display, lend, add or return a book:return\n",
      "please enter the name of book you want to return: sun\n",
      "book has been returned successfully\n",
      "please enter weather you want to display, lend, add or return a book:borrow\n",
      "sorry, method not available!\n"
     ]
    }
   ],
   "source": [
    "a=library(['moon','sun','star','planet'],'galaxy')\n",
    "\n",
    "def main ():\n",
    "    \n",
    "    while True:\n",
    "        method = input('please enter weather you want to display, lend, add or return a book:')\n",
    "        \n",
    "        if method == 'display':\n",
    "            \n",
    "            a.Displaybook()\n",
    "            \n",
    "        elif method == 'lend':\n",
    "            \n",
    "            a.Lendbook()\n",
    "            \n",
    "        elif method == 'add':\n",
    "            \n",
    "            a.Addbook()  \n",
    "            \n",
    "        elif method == 'return':\n",
    "            \n",
    "            a.Returnbook() \n",
    "            \n",
    "        else:\n",
    "            \n",
    "            print('sorry, method not available!')\n",
    "            \n",
    "            \n",
    "if __name__=='__main__':\n",
    "    main()"
   ]
  },
  {
   "cell_type": "code",
   "execution_count": null,
   "id": "f91b1b57",
   "metadata": {},
   "outputs": [],
   "source": []
  },
  {
   "cell_type": "code",
   "execution_count": null,
   "id": "72f674b0",
   "metadata": {},
   "outputs": [],
   "source": []
  },
  {
   "cell_type": "code",
   "execution_count": null,
   "id": "e5b12e81",
   "metadata": {},
   "outputs": [],
   "source": []
  },
  {
   "cell_type": "code",
   "execution_count": null,
   "id": "60b757a3",
   "metadata": {},
   "outputs": [],
   "source": []
  }
 ],
 "metadata": {
  "kernelspec": {
   "display_name": "Python 3",
   "language": "python",
   "name": "python3"
  },
  "language_info": {
   "codemirror_mode": {
    "name": "ipython",
    "version": 3
   },
   "file_extension": ".py",
   "mimetype": "text/x-python",
   "name": "python",
   "nbconvert_exporter": "python",
   "pygments_lexer": "ipython3",
   "version": "3.8.8"
  }
 },
 "nbformat": 4,
 "nbformat_minor": 5
}
